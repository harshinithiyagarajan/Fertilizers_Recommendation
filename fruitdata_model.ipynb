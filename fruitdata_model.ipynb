{
  "nbformat": 4,
  "nbformat_minor": 0,
  "metadata": {
    "colab": {
      "provenance": [],
      "collapsed_sections": []
    },
    "kernelspec": {
      "name": "python3",
      "display_name": "Python 3"
    },
    "language_info": {
      "name": "python"
    }
  },
  "cells": [
    {
      "cell_type": "code",
      "execution_count": 1,
      "metadata": {
        "colab": {
          "base_uri": "https://localhost:8080/"
        },
        "id": "vMSzx6FW9pAj",
        "outputId": "08ce87d9-5744-48c8-bcc8-88da25e8a69f"
      },
      "outputs": [
        {
          "output_type": "stream",
          "name": "stdout",
          "text": [
            "Mounted at /content/drive\n"
          ]
        }
      ],
      "source": [
        "from google.colab import drive\n",
        "drive.mount('/content/drive')"
      ]
    },
    {
      "cell_type": "code",
      "source": [
        "import numpy as np\n",
        "import pandas as pd\n",
        "import matplotlib.pyplot as plt\n",
        "import os\n",
        "\n",
        "import keras\n",
        "import tensorflow\n",
        "\n",
        "from keras.preprocessing.image import ImageDataGenerator\n",
        "\n",
        "from keras.applications.vgg19 import VGG19,preprocess_input,decode_predictions\n",
        "\n",
        "from tensorflow.keras.utils import img_to_array\n",
        "\n",
        "from keras_preprocessing.image import load_img"
      ],
      "metadata": {
        "id": "1Uw0Rbi69wYy"
      },
      "execution_count": 2,
      "outputs": []
    },
    {
      "cell_type": "code",
      "source": [
        "train_datagen = ImageDataGenerator(zoom_range=0.5,shear_range=0.3,horizontal_flip=True,preprocessing_function= preprocess_input)\n",
        "val_datagen = ImageDataGenerator(rescale= 1/255)"
      ],
      "metadata": {
        "id": "p0YfYLCg9whI"
      },
      "execution_count": 3,
      "outputs": []
    },
    {
      "cell_type": "code",
      "source": [
        "x_train=train_datagen.flow_from_directory(r'/content/drive/MyDrive/Dataset Plant Disease/fruit-dataset/test',target_size=(256,256),class_mode='categorical',batch_size=32)\n",
        "x_val=val_datagen.flow_from_directory(r'/content/drive/MyDrive/Dataset Plant Disease/fruit-dataset/train',target_size=(256,256),class_mode='categorical',batch_size=32)"
      ],
      "metadata": {
        "colab": {
          "base_uri": "https://localhost:8080/"
        },
        "id": "PHYggymo9wqg",
        "outputId": "8eff35fa-6b31-4880-9461-fc94fb9b5b56"
      },
      "execution_count": 4,
      "outputs": [
        {
          "output_type": "stream",
          "name": "stdout",
          "text": [
            "Found 1686 images belonging to 6 classes.\n",
            "Found 5394 images belonging to 6 classes.\n"
          ]
        }
      ]
    },
    {
      "cell_type": "code",
      "source": [
        "from keras.layers import Dense, Flatten \n",
        "from keras.models import Model\n",
        "from keras.applications.vgg19 import VGG19\n",
        "import keras"
      ],
      "metadata": {
        "id": "Lw6D7IEF9wzT"
      },
      "execution_count": 5,
      "outputs": []
    },
    {
      "cell_type": "code",
      "source": [
        "base_model = VGG19(input_shape=(256, 256, 3), include_top = False)"
      ],
      "metadata": {
        "colab": {
          "base_uri": "https://localhost:8080/"
        },
        "id": "qzJ_vgcP9w6u",
        "outputId": "75f18964-26e8-4fda-c0bd-b89bb81f6718"
      },
      "execution_count": 6,
      "outputs": [
        {
          "output_type": "stream",
          "name": "stdout",
          "text": [
            "Downloading data from https://storage.googleapis.com/tensorflow/keras-applications/vgg19/vgg19_weights_tf_dim_ordering_tf_kernels_notop.h5\n",
            "80134624/80134624 [==============================] - 4s 0us/step\n"
          ]
        }
      ]
    },
    {
      "cell_type": "code",
      "source": [
        "for layer in base_model.layers:\n",
        "  layer.trainable= False"
      ],
      "metadata": {
        "id": "KBhlQ4US9xB5"
      },
      "execution_count": 7,
      "outputs": []
    },
    {
      "cell_type": "code",
      "source": [
        "base_model.summary()"
      ],
      "metadata": {
        "colab": {
          "base_uri": "https://localhost:8080/"
        },
        "id": "_gshNXM69xIy",
        "outputId": "3d0a186f-f05b-43c0-c34f-3e8038d62026"
      },
      "execution_count": 8,
      "outputs": [
        {
          "output_type": "stream",
          "name": "stdout",
          "text": [
            "Model: \"vgg19\"\n",
            "_________________________________________________________________\n",
            " Layer (type)                Output Shape              Param #   \n",
            "=================================================================\n",
            " input_1 (InputLayer)        [(None, 256, 256, 3)]     0         \n",
            "                                                                 \n",
            " block1_conv1 (Conv2D)       (None, 256, 256, 64)      1792      \n",
            "                                                                 \n",
            " block1_conv2 (Conv2D)       (None, 256, 256, 64)      36928     \n",
            "                                                                 \n",
            " block1_pool (MaxPooling2D)  (None, 128, 128, 64)      0         \n",
            "                                                                 \n",
            " block2_conv1 (Conv2D)       (None, 128, 128, 128)     73856     \n",
            "                                                                 \n",
            " block2_conv2 (Conv2D)       (None, 128, 128, 128)     147584    \n",
            "                                                                 \n",
            " block2_pool (MaxPooling2D)  (None, 64, 64, 128)       0         \n",
            "                                                                 \n",
            " block3_conv1 (Conv2D)       (None, 64, 64, 256)       295168    \n",
            "                                                                 \n",
            " block3_conv2 (Conv2D)       (None, 64, 64, 256)       590080    \n",
            "                                                                 \n",
            " block3_conv3 (Conv2D)       (None, 64, 64, 256)       590080    \n",
            "                                                                 \n",
            " block3_conv4 (Conv2D)       (None, 64, 64, 256)       590080    \n",
            "                                                                 \n",
            " block3_pool (MaxPooling2D)  (None, 32, 32, 256)       0         \n",
            "                                                                 \n",
            " block4_conv1 (Conv2D)       (None, 32, 32, 512)       1180160   \n",
            "                                                                 \n",
            " block4_conv2 (Conv2D)       (None, 32, 32, 512)       2359808   \n",
            "                                                                 \n",
            " block4_conv3 (Conv2D)       (None, 32, 32, 512)       2359808   \n",
            "                                                                 \n",
            " block4_conv4 (Conv2D)       (None, 32, 32, 512)       2359808   \n",
            "                                                                 \n",
            " block4_pool (MaxPooling2D)  (None, 16, 16, 512)       0         \n",
            "                                                                 \n",
            " block5_conv1 (Conv2D)       (None, 16, 16, 512)       2359808   \n",
            "                                                                 \n",
            " block5_conv2 (Conv2D)       (None, 16, 16, 512)       2359808   \n",
            "                                                                 \n",
            " block5_conv3 (Conv2D)       (None, 16, 16, 512)       2359808   \n",
            "                                                                 \n",
            " block5_conv4 (Conv2D)       (None, 16, 16, 512)       2359808   \n",
            "                                                                 \n",
            " block5_pool (MaxPooling2D)  (None, 8, 8, 512)         0         \n",
            "                                                                 \n",
            "=================================================================\n",
            "Total params: 20,024,384\n",
            "Trainable params: 0\n",
            "Non-trainable params: 20,024,384\n",
            "_________________________________________________________________\n"
          ]
        }
      ]
    },
    {
      "cell_type": "code",
      "source": [
        "X = Flatten()(base_model.output)\n",
        "X= Dense(units = 6, activation='softmax')(X)\n",
        "\n",
        "#creating our model\n",
        "model = Model(base_model.input, X)\n",
        "model.summary()"
      ],
      "metadata": {
        "colab": {
          "base_uri": "https://localhost:8080/"
        },
        "id": "uppJwGqb9xQC",
        "outputId": "bec48cf8-9cfe-4a09-fdee-62e5239d7d87"
      },
      "execution_count": 9,
      "outputs": [
        {
          "output_type": "stream",
          "name": "stdout",
          "text": [
            "Model: \"model\"\n",
            "_________________________________________________________________\n",
            " Layer (type)                Output Shape              Param #   \n",
            "=================================================================\n",
            " input_1 (InputLayer)        [(None, 256, 256, 3)]     0         \n",
            "                                                                 \n",
            " block1_conv1 (Conv2D)       (None, 256, 256, 64)      1792      \n",
            "                                                                 \n",
            " block1_conv2 (Conv2D)       (None, 256, 256, 64)      36928     \n",
            "                                                                 \n",
            " block1_pool (MaxPooling2D)  (None, 128, 128, 64)      0         \n",
            "                                                                 \n",
            " block2_conv1 (Conv2D)       (None, 128, 128, 128)     73856     \n",
            "                                                                 \n",
            " block2_conv2 (Conv2D)       (None, 128, 128, 128)     147584    \n",
            "                                                                 \n",
            " block2_pool (MaxPooling2D)  (None, 64, 64, 128)       0         \n",
            "                                                                 \n",
            " block3_conv1 (Conv2D)       (None, 64, 64, 256)       295168    \n",
            "                                                                 \n",
            " block3_conv2 (Conv2D)       (None, 64, 64, 256)       590080    \n",
            "                                                                 \n",
            " block3_conv3 (Conv2D)       (None, 64, 64, 256)       590080    \n",
            "                                                                 \n",
            " block3_conv4 (Conv2D)       (None, 64, 64, 256)       590080    \n",
            "                                                                 \n",
            " block3_pool (MaxPooling2D)  (None, 32, 32, 256)       0         \n",
            "                                                                 \n",
            " block4_conv1 (Conv2D)       (None, 32, 32, 512)       1180160   \n",
            "                                                                 \n",
            " block4_conv2 (Conv2D)       (None, 32, 32, 512)       2359808   \n",
            "                                                                 \n",
            " block4_conv3 (Conv2D)       (None, 32, 32, 512)       2359808   \n",
            "                                                                 \n",
            " block4_conv4 (Conv2D)       (None, 32, 32, 512)       2359808   \n",
            "                                                                 \n",
            " block4_pool (MaxPooling2D)  (None, 16, 16, 512)       0         \n",
            "                                                                 \n",
            " block5_conv1 (Conv2D)       (None, 16, 16, 512)       2359808   \n",
            "                                                                 \n",
            " block5_conv2 (Conv2D)       (None, 16, 16, 512)       2359808   \n",
            "                                                                 \n",
            " block5_conv3 (Conv2D)       (None, 16, 16, 512)       2359808   \n",
            "                                                                 \n",
            " block5_conv4 (Conv2D)       (None, 16, 16, 512)       2359808   \n",
            "                                                                 \n",
            " block5_pool (MaxPooling2D)  (None, 8, 8, 512)         0         \n",
            "                                                                 \n",
            " flatten (Flatten)           (None, 32768)             0         \n",
            "                                                                 \n",
            " dense (Dense)               (None, 6)                 196614    \n",
            "                                                                 \n",
            "=================================================================\n",
            "Total params: 20,220,998\n",
            "Trainable params: 196,614\n",
            "Non-trainable params: 20,024,384\n",
            "_________________________________________________________________\n"
          ]
        }
      ]
    },
    {
      "cell_type": "code",
      "source": [
        "import tensorflow as tf\n",
        "tf.keras.losses.CategoricalCrossentropy()\n",
        "loss = 'categorical_crossentropy'\n",
        "model.compile(optimizer= 'adam', loss = 'categorical_crossentropy' , metrics=['accuracy'])"
      ],
      "metadata": {
        "id": "PCdBqikl9xXz"
      },
      "execution_count": 10,
      "outputs": []
    },
    {
      "cell_type": "code",
      "source": [
        "from keras.callbacks import ModelCheckpoint, EarlyStopping\n",
        "es= EarlyStopping(monitor= 'val_accuracy',min_delta=0.01, patience = 3, verbose = 1)\n",
        "\n",
        "#model check point\n",
        "mc= ModelCheckpoint(filepath =\"fruit_model.h5\", \n",
        "                    monitor= 'val_accuracy', \n",
        "                    min_delta=0.01, \n",
        "                    patience= 3, \n",
        "                    verbose = 1, \n",
        "                    save_best_only= True)\n",
        "cb= [es, mc]"
      ],
      "metadata": {
        "id": "tdXGdw8d-MFM"
      },
      "execution_count": 11,
      "outputs": []
    },
    {
      "cell_type": "code",
      "source": [
        "his= model.fit_generator(x_train, steps_per_epoch = 16, epochs= 50, verbose= 1, callbacks= cb, validation_data= x_val, validation_steps = 16)"
      ],
      "metadata": {
        "colab": {
          "base_uri": "https://localhost:8080/"
        },
        "id": "jk-ipnZg-MIL",
        "outputId": "cf35de4d-8dc7-421d-9379-d5bc756148f9"
      },
      "execution_count": 12,
      "outputs": [
        {
          "output_type": "stream",
          "name": "stderr",
          "text": [
            "/usr/local/lib/python3.7/dist-packages/ipykernel_launcher.py:1: UserWarning: `Model.fit_generator` is deprecated and will be removed in a future version. Please use `Model.fit`, which supports generators.\n",
            "  \"\"\"Entry point for launching an IPython kernel.\n"
          ]
        },
        {
          "output_type": "stream",
          "name": "stdout",
          "text": [
            "Epoch 1/50\n",
            "16/16 [==============================] - ETA: 0s - loss: 4.4297 - accuracy: 0.7070 \n",
            "Epoch 1: val_accuracy improved from -inf to 0.38477, saving model to fruit_model.h5\n",
            "16/16 [==============================] - 906s 57s/step - loss: 4.4297 - accuracy: 0.7070 - val_loss: 2.5263 - val_accuracy: 0.3848\n",
            "Epoch 2/50\n",
            "16/16 [==============================] - ETA: 0s - loss: 0.9674 - accuracy: 0.9183 \n",
            "Epoch 2: val_accuracy improved from 0.38477 to 0.66016, saving model to fruit_model.h5\n",
            "16/16 [==============================] - 889s 57s/step - loss: 0.9674 - accuracy: 0.9183 - val_loss: 1.4509 - val_accuracy: 0.6602\n",
            "Epoch 3/50\n",
            "16/16 [==============================] - ETA: 0s - loss: 0.9224 - accuracy: 0.9434 \n",
            "Epoch 3: val_accuracy improved from 0.66016 to 0.66211, saving model to fruit_model.h5\n",
            "16/16 [==============================] - 887s 57s/step - loss: 0.9224 - accuracy: 0.9434 - val_loss: 1.6496 - val_accuracy: 0.6621\n",
            "Epoch 4/50\n",
            "16/16 [==============================] - ETA: 0s - loss: 0.8972 - accuracy: 0.9512 \n",
            "Epoch 4: val_accuracy improved from 0.66211 to 0.74805, saving model to fruit_model.h5\n",
            "16/16 [==============================] - 874s 56s/step - loss: 0.8972 - accuracy: 0.9512 - val_loss: 1.6874 - val_accuracy: 0.7480\n",
            "Epoch 5/50\n",
            "16/16 [==============================] - ETA: 0s - loss: 1.1067 - accuracy: 0.9343 \n",
            "Epoch 5: val_accuracy did not improve from 0.74805\n",
            "16/16 [==============================] - 861s 55s/step - loss: 1.1067 - accuracy: 0.9343 - val_loss: 1.7221 - val_accuracy: 0.7246\n",
            "Epoch 6/50\n",
            "16/16 [==============================] - ETA: 0s - loss: 0.4416 - accuracy: 0.9727 \n",
            "Epoch 6: val_accuracy did not improve from 0.74805\n",
            "16/16 [==============================] - 878s 57s/step - loss: 0.4416 - accuracy: 0.9727 - val_loss: 1.6773 - val_accuracy: 0.5508\n",
            "Epoch 7/50\n",
            "16/16 [==============================] - ETA: 0s - loss: 0.7685 - accuracy: 0.9688 \n",
            "Epoch 7: val_accuracy did not improve from 0.74805\n",
            "16/16 [==============================] - 867s 56s/step - loss: 0.7685 - accuracy: 0.9688 - val_loss: 2.0626 - val_accuracy: 0.5723\n",
            "Epoch 7: early stopping\n"
          ]
        }
      ]
    },
    {
      "cell_type": "code",
      "source": [
        "h= his.history\n",
        "h.keys()"
      ],
      "metadata": {
        "id": "eBt15eRI-MK-",
        "colab": {
          "base_uri": "https://localhost:8080/"
        },
        "outputId": "cfefe988-6d56-4126-9420-bfc6612f825a"
      },
      "execution_count": 13,
      "outputs": [
        {
          "output_type": "execute_result",
          "data": {
            "text/plain": [
              "dict_keys(['loss', 'accuracy', 'val_loss', 'val_accuracy'])"
            ]
          },
          "metadata": {},
          "execution_count": 13
        }
      ]
    },
    {
      "cell_type": "code",
      "source": [
        "plt.plot(h['accuracy'])\n",
        "plt.plot(h['val_accuracy'], c= \"red\")\n",
        "plt.title(\"accuracy vs v-accuracy\")\n",
        "plt.show()"
      ],
      "metadata": {
        "id": "wSfL_aiV-MOc",
        "colab": {
          "base_uri": "https://localhost:8080/",
          "height": 281
        },
        "outputId": "edf34899-caf7-4328-e752-cff69d349962"
      },
      "execution_count": 14,
      "outputs": [
        {
          "output_type": "display_data",
          "data": {
            "text/plain": [
              "<Figure size 432x288 with 1 Axes>"
            ],
            "image/png": "[encoded data removed]"
          },
          "metadata": {
            "needs_background": "light"
          }
        }
      ]
    },
    {
      "cell_type": "code",
      "source": [
        "plt.plot(h['loss'])\n",
        "plt.plot(h['val_loss'], c= \"red\")\n",
        "plt.title(\"loss vs v-loss\")\n",
        "plt.show()"
      ],
      "metadata": {
        "id": "oK571wJ6-MbG",
        "colab": {
          "base_uri": "https://localhost:8080/",
          "height": 281
        },
        "outputId": "a24ffe9d-2723-4748-ad2b-d69dfd15bda8"
      },
      "execution_count": 15,
      "outputs": [
        {
          "output_type": "display_data",
          "data": {
            "text/plain": [
              "<Figure size 432x288 with 1 Axes>"
            ],
            "image/png": "[encoded data removed]"
          },
          "metadata": {
            "needs_background": "light"
          }
        }
      ]
    },
    {
      "cell_type": "code",
      "source": [
        "#load best model\n",
        "from keras.models import load_model\n",
        "model= load_model(\"/content/fruit_model.h5\")"
      ],
      "metadata": {
        "id": "8_bxraRB-Mid"
      },
      "execution_count": 16,
      "outputs": []
    },
    {
      "cell_type": "code",
      "source": [
        "def prediction(path):\n",
        "  img= load_img(path,target_size=(256, 256))\n",
        "  i=img_to_array(img)\n",
        "  im=preprocess_input(i)\n",
        "  img= np.expand_dims(im, axis=0)\n",
        "  pred = np.argmax(model.predict(img))\n",
        "  ref = dict(zip(list(x_train.class_indices.values()) , list(x_train.class_indices.keys())))\n",
        "  print(f\" the image belongs to {ref[pred]}\")"
      ],
      "metadata": {
        "id": "GXFM9Slx-MpP"
      },
      "execution_count": 17,
      "outputs": []
    },
    {
      "cell_type": "code",
      "source": [
        "ref = dict(zip(list(x_train.class_indices.values()) , list(x_train.class_indices.keys())))"
      ],
      "metadata": {
        "id": "Asw5jtek-geT"
      },
      "execution_count": 18,
      "outputs": []
    },
    {
      "cell_type": "code",
      "source": [
        "#prediction of images into numbers\n",
        "path = \"/content/drive/MyDrive/Dataset Plant Disease/fruit-dataset/test/Corn_(maize)___Northern_Leaf_Blight/008d9af0-7568-4a67-bb1a-0e915836ddc0___RS_NLB 4165 copy 2.jpg\"\n",
        "prediction(path)"
      ],
      "metadata": {
        "id": "9oF03j28-gjQ",
        "colab": {
          "base_uri": "https://localhost:8080/"
        },
        "outputId": "fdd745d5-7e83-4513-a7b3-e434918183c7"
      },
      "execution_count": 21,
      "outputs": [
        {
          "output_type": "stream",
          "name": "stdout",
          "text": [
            "1/1 [==============================] - 1s 877ms/step\n",
            " the image belongs to Corn_(maize)___Northern_Leaf_Blight\n"
          ]
        }
      ]
    }
  ]
}